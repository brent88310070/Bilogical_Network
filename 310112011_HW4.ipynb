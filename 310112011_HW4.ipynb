{
 "cells": [
  {
   "cell_type": "markdown",
   "id": "d6692b07",
   "metadata": {},
   "source": [
    "### Use network 1 and treat it as directed"
   ]
  },
  {
   "cell_type": "code",
   "execution_count": 15,
   "id": "baa54681",
   "metadata": {},
   "outputs": [],
   "source": [
    "import networkx as nx\n",
    "import scipy as sp\n",
    "import pandas as pd\n",
    "import numpy as np"
   ]
  },
  {
   "cell_type": "markdown",
   "id": "760752fe",
   "metadata": {},
   "source": [
    "#### 1. calculate its density"
   ]
  },
  {
   "cell_type": "code",
   "execution_count": 3,
   "id": "c2cdcca6",
   "metadata": {},
   "outputs": [],
   "source": [
    "G = nx.read_edgelist(\"Network 1.txt\", create_using=nx.DiGraph)"
   ]
  },
  {
   "cell_type": "code",
   "execution_count": 4,
   "id": "7aac60cb",
   "metadata": {},
   "outputs": [
    {
     "data": {
      "text/plain": [
       "0.19444444444444445"
      ]
     },
     "execution_count": 4,
     "metadata": {},
     "output_type": "execute_result"
    }
   ],
   "source": [
    "nx.density(G)"
   ]
  },
  {
   "cell_type": "markdown",
   "id": "29c350a9",
   "metadata": {},
   "source": [
    "#### 2. output its adjacency and incidence matrix"
   ]
  },
  {
   "cell_type": "code",
   "execution_count": 5,
   "id": "f797c77c",
   "metadata": {},
   "outputs": [],
   "source": [
    "adjacency_matrix = nx.adjacency_matrix(G)"
   ]
  },
  {
   "cell_type": "code",
   "execution_count": 16,
   "id": "e2d6cd9c-b01b-4793-9c70-55e753cf8d04",
   "metadata": {},
   "outputs": [
    {
     "name": "stdout",
     "output_type": "stream",
     "text": [
      "   i  e  g  h  d  f  c  b  a\n",
      "i  0  1  0  0  0  0  0  0  0\n",
      "e  0  0  1  1  0  1  1  0  0\n",
      "g  0  0  0  1  1  0  0  0  0\n",
      "h  0  0  0  0  0  0  0  0  0\n",
      "d  0  1  0  1  0  1  0  0  0\n",
      "f  0  0  1  1  0  0  0  0  0\n",
      "c  0  0  0  0  0  0  0  0  0\n",
      "b  0  0  0  0  0  0  1  0  0\n",
      "a  0  0  0  0  0  0  0  1  0\n"
     ]
    }
   ],
   "source": [
    "adj_sparse = sp.sparse.coo_matrix(adjacency_matrix, dtype=np.int8)\n",
    "labels = list(nx.nodes(G))\n",
    "DF_adj = pd.DataFrame(adj_sparse.toarray(),index=labels,columns=labels)\n",
    "print(DF_adj)"
   ]
  },
  {
   "cell_type": "code",
   "execution_count": 18,
   "id": "d46da749",
   "metadata": {},
   "outputs": [],
   "source": [
    "incidence_matrix = nx.incidence_matrix(G)"
   ]
  },
  {
   "cell_type": "code",
   "execution_count": 26,
   "id": "fe1f3ff2",
   "metadata": {},
   "outputs": [
    {
     "name": "stdout",
     "output_type": "stream",
     "text": [
      "   (i, e)  (e, h)  (e, g)  (e, c)  (e, f)  (g, h)  (g, d)  (d, h)  (d, f)  \\\n",
      "i       1       0       0       0       0       0       0       0       0   \n",
      "e       1       1       1       1       1       0       0       0       0   \n",
      "g       0       0       1       0       0       1       1       0       0   \n",
      "h       0       1       0       0       0       1       0       1       0   \n",
      "d       0       0       0       0       0       0       1       1       1   \n",
      "f       0       0       0       0       1       0       0       0       1   \n",
      "c       0       0       0       1       0       0       0       0       0   \n",
      "b       0       0       0       0       0       0       0       0       0   \n",
      "a       0       0       0       0       0       0       0       0       0   \n",
      "\n",
      "   (d, e)  (f, h)  (f, g)  (b, c)  (a, b)  \n",
      "i       0       0       0       0       0  \n",
      "e       1       0       0       0       0  \n",
      "g       0       0       1       0       0  \n",
      "h       0       1       0       0       0  \n",
      "d       1       0       0       0       0  \n",
      "f       0       1       1       0       0  \n",
      "c       0       0       0       1       0  \n",
      "b       0       0       0       1       1  \n",
      "a       0       0       0       0       1  \n"
     ]
    }
   ],
   "source": [
    "inc_sparse = sp.sparse.coo_matrix(incidence_matrix, dtype=np.int8)\n",
    "labels = list(nx.nodes(G))\n",
    "labels2 = list(nx.edges(G))\n",
    "DF_inc = pd.DataFrame(inc_sparse.toarray(),index=labels,columns=labels2)\n",
    "print(DF_inc)"
   ]
  },
  {
   "cell_type": "markdown",
   "id": "c014d122",
   "metadata": {},
   "source": [
    "#### 3. find its transitive closure"
   ]
  },
  {
   "cell_type": "code",
   "execution_count": 33,
   "id": "8f98fa8d",
   "metadata": {},
   "outputs": [],
   "source": [
    "transitive_closure = nx.transitive_closure(G)"
   ]
  },
  {
   "cell_type": "code",
   "execution_count": 38,
   "id": "5a456173",
   "metadata": {},
   "outputs": [
    {
     "name": "stdout",
     "output_type": "stream",
     "text": [
      "   i  e  g  h  d  f  c  b  a\n",
      "i  0  1  1  1  1  1  1  0  0\n",
      "e  0  1  1  1  1  1  1  0  0\n",
      "g  0  1  1  1  1  1  1  0  0\n",
      "h  0  0  0  0  0  0  0  0  0\n",
      "d  0  1  1  1  1  1  1  0  0\n",
      "f  0  1  1  1  1  1  1  0  0\n",
      "c  0  0  0  0  0  0  0  0  0\n",
      "b  0  0  0  0  0  0  1  0  0\n",
      "a  0  0  0  0  0  0  1  1  0\n"
     ]
    }
   ],
   "source": [
    "tran_sparse = sp.sparse.coo_matrix(nx.to_numpy_matrix(transitive_closure), dtype=np.int8)\n",
    "labels = list(nx.nodes(G))\n",
    "DF_tran = pd.DataFrame(tran_sparse.toarray(),index=labels,columns=labels)\n",
    "print(DF_tran)"
   ]
  },
  {
   "cell_type": "markdown",
   "id": "c3943c4b",
   "metadata": {},
   "source": [
    "### Propose the algorithms with pseudocode doing:"
   ]
  },
  {
   "cell_type": "markdown",
   "id": "fca98a2c",
   "metadata": {},
   "source": [
    "#### run BFS with adjacency matrix structure"
   ]
  },
  {
   "cell_type": "markdown",
   "id": "1420e9f2",
   "metadata": {},
   "source": [
    "random_choose_start_point(x)        #隨機挑選起點\n",
    "\n",
    "def bfs(adjacency_matrix, x):\n",
    "    remove(column(x))\n",
    "    loop row(x):\n",
    "        if x.column(y) is 1:\n",
    "            x.add(edge and node(y)) #建立graph\n",
    "            remove(column(y))\n",
    "    if x.column(y) all is 0:        #即 都走完\n",
    "        return graph\n",
    "    else:\n",
    "        z = pick_point_with_more_neighbors_in_row(x) #選擇鄰居數最多的\"點\"\n",
    "        bfs(new_adjacency_matrix, z)                 #遞迴"
   ]
  },
  {
   "cell_type": "markdown",
   "id": "5f9c487c",
   "metadata": {},
   "source": [
    "#### run DFS with adjacency list structure"
   ]
  },
  {
   "cell_type": "markdown",
   "id": "a1ee850a",
   "metadata": {},
   "source": [
    "random_choose_start_point(x)                  #隨機挑選起點\n",
    "nodes_list = []\n",
    "nodes_list.append(x)\n",
    "\n",
    "def dfs(adjacency_matrix, x):\n",
    "    nodes_list = []\n",
    "    x.add(edge and first_node(y) in x_list)   #建立graph\n",
    "    nodes_list.append(y)\n",
    "    remove(y) in x_list\n",
    "    if nodes_list has all nodes:\n",
    "        return graph\n",
    "    elif y not have neighbors:\n",
    "        dfs(new_adjacency_matrix, x)          #回到前一個點 遞迴\n",
    "    else:\n",
    "        dfs(new_adjacency_matrix, y)          #當前的點 遞迴"
   ]
  }
 ],
 "metadata": {
  "kernelspec": {
   "display_name": "Python 3 (ipykernel)",
   "language": "python",
   "name": "python3"
  },
  "language_info": {
   "codemirror_mode": {
    "name": "ipython",
    "version": 3
   },
   "file_extension": ".py",
   "mimetype": "text/x-python",
   "name": "python",
   "nbconvert_exporter": "python",
   "pygments_lexer": "ipython3",
   "version": "3.8.11"
  }
 },
 "nbformat": 4,
 "nbformat_minor": 5
}
