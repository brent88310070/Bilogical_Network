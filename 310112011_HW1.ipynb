{
 "cells": [
  {
   "cell_type": "code",
   "execution_count": 1,
   "id": "f297adb4",
   "metadata": {},
   "outputs": [],
   "source": [
    "import networkx as nx\n",
    "import pandas as pd\n",
    "from itertools import permutations"
   ]
  },
  {
   "cell_type": "markdown",
   "id": "c0e798f6",
   "metadata": {},
   "source": [
    "### Network 1"
   ]
  },
  {
   "cell_type": "code",
   "execution_count": 2,
   "id": "c979a34e",
   "metadata": {},
   "outputs": [],
   "source": [
    "G = nx.read_edgelist(\"Network 1.txt\", create_using=nx.MultiGraph())"
   ]
  },
  {
   "cell_type": "markdown",
   "id": "67b2ed8f",
   "metadata": {},
   "source": [
    "#### 1.calculate the number of nodes and edges"
   ]
  },
  {
   "cell_type": "code",
   "execution_count": 3,
   "id": "778a7d22",
   "metadata": {},
   "outputs": [
    {
     "data": {
      "text/plain": [
       "9"
      ]
     },
     "execution_count": 3,
     "metadata": {},
     "output_type": "execute_result"
    }
   ],
   "source": [
    "nx.number_of_nodes(G)"
   ]
  },
  {
   "cell_type": "code",
   "execution_count": 4,
   "id": "9ec059d5",
   "metadata": {},
   "outputs": [
    {
     "data": {
      "text/plain": [
       "14"
      ]
     },
     "execution_count": 4,
     "metadata": {},
     "output_type": "execute_result"
    }
   ],
   "source": [
    "nx.number_of_edges(G)"
   ]
  },
  {
   "cell_type": "markdown",
   "id": "e4acb135",
   "metadata": {},
   "source": [
    "#### 2.determine if the network is simple or not"
   ]
  },
  {
   "cell_type": "code",
   "execution_count": 5,
   "id": "84a8bfbb",
   "metadata": {},
   "outputs": [],
   "source": [
    "def nx_simple_or_not(G):\n",
    "    selfloops = list(nx.selfloop_edges(G))\n",
    "        \n",
    "    muti_edge = []\n",
    "    for i in list(permutations(list(G.nodes),2)):\n",
    "        if G.number_of_edges(i[0], i[1]) >= 2:\n",
    "            muti_edge.append(\"%s&%s\" %(i[0], i[1]))\n",
    "            \n",
    "    if len(selfloops) == 0 and len(muti_edge) == 0:\n",
    "        return \"Simple network\"\n",
    "    else:\n",
    "        return \"Self-loops: %s, Multi-edges: %s\" %(selfloops, muti_edge)"
   ]
  },
  {
   "cell_type": "code",
   "execution_count": 6,
   "id": "2daa2723",
   "metadata": {},
   "outputs": [
    {
     "data": {
      "text/plain": [
       "1"
      ]
     },
     "execution_count": 6,
     "metadata": {},
     "output_type": "execute_result"
    }
   ],
   "source": [
    "G.number_of_edges(\"c\", \"e\")"
   ]
  },
  {
   "cell_type": "code",
   "execution_count": 7,
   "id": "f238925a",
   "metadata": {},
   "outputs": [
    {
     "data": {
      "text/plain": [
       "'Simple network'"
      ]
     },
     "execution_count": 7,
     "metadata": {},
     "output_type": "execute_result"
    }
   ],
   "source": [
    "nx_simple_or_not(G)"
   ]
  },
  {
   "cell_type": "markdown",
   "id": "996be1bc",
   "metadata": {},
   "source": [
    "#### 3.list all the neighbors of node e and c in the network 1 respectively"
   ]
  },
  {
   "cell_type": "code",
   "execution_count": 8,
   "id": "11b306c9",
   "metadata": {},
   "outputs": [
    {
     "data": {
      "text/plain": [
       "['e', 'b']"
      ]
     },
     "execution_count": 8,
     "metadata": {},
     "output_type": "execute_result"
    }
   ],
   "source": [
    "list(nx.neighbors(G, \"c\"))"
   ]
  },
  {
   "cell_type": "code",
   "execution_count": 9,
   "id": "8607d597",
   "metadata": {},
   "outputs": [
    {
     "data": {
      "text/plain": [
       "['i', 'h', 'g', 'c', 'f', 'd']"
      ]
     },
     "execution_count": 9,
     "metadata": {},
     "output_type": "execute_result"
    }
   ],
   "source": [
    "list(nx.neighbors(G, \"e\"))"
   ]
  },
  {
   "cell_type": "markdown",
   "id": "be3000a9",
   "metadata": {},
   "source": [
    "### Network 2"
   ]
  },
  {
   "cell_type": "code",
   "execution_count": 10,
   "id": "181c59dc",
   "metadata": {},
   "outputs": [],
   "source": [
    "G2 = nx.read_edgelist(\"Network 2.txt\", create_using=nx.MultiGraph())"
   ]
  },
  {
   "cell_type": "markdown",
   "id": "8b3f1dec",
   "metadata": {},
   "source": [
    "#### 1.calculate the number of nodes and edges"
   ]
  },
  {
   "cell_type": "code",
   "execution_count": 11,
   "id": "e25cd242",
   "metadata": {},
   "outputs": [
    {
     "data": {
      "text/plain": [
       "10"
      ]
     },
     "execution_count": 11,
     "metadata": {},
     "output_type": "execute_result"
    }
   ],
   "source": [
    "nx.number_of_nodes(G2)"
   ]
  },
  {
   "cell_type": "code",
   "execution_count": 12,
   "id": "e0243958",
   "metadata": {},
   "outputs": [
    {
     "data": {
      "text/plain": [
       "20"
      ]
     },
     "execution_count": 12,
     "metadata": {},
     "output_type": "execute_result"
    }
   ],
   "source": [
    "nx.number_of_edges(G2)"
   ]
  },
  {
   "cell_type": "markdown",
   "id": "37f89daa",
   "metadata": {},
   "source": [
    "#### 2.determine if the network is simple or not"
   ]
  },
  {
   "cell_type": "code",
   "execution_count": 13,
   "id": "6a39218d",
   "metadata": {},
   "outputs": [
    {
     "data": {
      "text/plain": [
       "\"Self-loops: [('c', 'c')], Multi-edges: ['b&c', 'c&b', 'c&e', 'e&c']\""
      ]
     },
     "execution_count": 13,
     "metadata": {},
     "output_type": "execute_result"
    }
   ],
   "source": [
    "nx_simple_or_not(G2)"
   ]
  },
  {
   "cell_type": "markdown",
   "id": "718ef7bf",
   "metadata": {},
   "source": [
    "#### 3.list all the neighbors of node e and c in the network 2 respectively"
   ]
  },
  {
   "cell_type": "code",
   "execution_count": 14,
   "id": "a607d2e8",
   "metadata": {},
   "outputs": [
    {
     "data": {
      "text/plain": [
       "['b', 'j', 'c', 'i', 'e']"
      ]
     },
     "execution_count": 14,
     "metadata": {},
     "output_type": "execute_result"
    }
   ],
   "source": [
    "list(nx.neighbors(G2, \"c\"))"
   ]
  },
  {
   "cell_type": "code",
   "execution_count": 15,
   "id": "2629c0fc",
   "metadata": {},
   "outputs": [
    {
     "data": {
      "text/plain": [
       "['c', 'd', 'f', 'g', 'h', 'i']"
      ]
     },
     "execution_count": 15,
     "metadata": {},
     "output_type": "execute_result"
    }
   ],
   "source": [
    "list(nx.neighbors(G2, \"e\"))"
   ]
  },
  {
   "cell_type": "code",
   "execution_count": 16,
   "id": "fa117a20",
   "metadata": {},
   "outputs": [],
   "source": [
    "def duplicated_neighbor(G, x):\n",
    "    du = []\n",
    "    for i in list(G.nodes):\n",
    "        if G.number_of_edges(x, i) >= 2:\n",
    "            du.append(i)\n",
    "    return \"Duplicated neighbors: %s\" %du\n",
    "\n",
    "def self_loop(G, x):\n",
    "    if x in list(nx.neighbors(G2, x)):\n",
    "        return \"Self-neighbor: %s\" %x\n",
    "    else:\n",
    "        return \"Not have Self-neighbor\""
   ]
  },
  {
   "cell_type": "code",
   "execution_count": 17,
   "id": "debdc30d",
   "metadata": {},
   "outputs": [
    {
     "data": {
      "text/plain": [
       "\"Duplicated neighbors: ['b', 'e']\""
      ]
     },
     "execution_count": 17,
     "metadata": {},
     "output_type": "execute_result"
    }
   ],
   "source": [
    "duplicated_neighbor(G2, \"c\")"
   ]
  },
  {
   "cell_type": "code",
   "execution_count": 18,
   "id": "ff5c8849",
   "metadata": {},
   "outputs": [
    {
     "data": {
      "text/plain": [
       "\"Duplicated neighbors: ['c']\""
      ]
     },
     "execution_count": 18,
     "metadata": {},
     "output_type": "execute_result"
    }
   ],
   "source": [
    "duplicated_neighbor(G2, \"e\")"
   ]
  },
  {
   "cell_type": "code",
   "execution_count": 19,
   "id": "77a4c2e6",
   "metadata": {},
   "outputs": [
    {
     "data": {
      "text/plain": [
       "'Self-neighbor: c'"
      ]
     },
     "execution_count": 19,
     "metadata": {},
     "output_type": "execute_result"
    }
   ],
   "source": [
    "self_loop(G2, \"c\")"
   ]
  },
  {
   "cell_type": "code",
   "execution_count": 20,
   "id": "783fe44a",
   "metadata": {},
   "outputs": [
    {
     "data": {
      "text/plain": [
       "'Not have Self-neighbor'"
      ]
     },
     "execution_count": 20,
     "metadata": {},
     "output_type": "execute_result"
    }
   ],
   "source": [
    "self_loop(G2, \"e\")"
   ]
  },
  {
   "cell_type": "markdown",
   "id": "8f4ba6d6",
   "metadata": {},
   "source": [
    "#### 4.design a function to check if the inputted two nodes are adjacent"
   ]
  },
  {
   "cell_type": "code",
   "execution_count": 21,
   "id": "47a152a1",
   "metadata": {},
   "outputs": [],
   "source": [
    "def nx_adjacent():\n",
    "    network = input(\"Your Network: \")\n",
    "    node1 = input(\"Your Node 1: \")\n",
    "    node2 = input(\"Your Node 2: \")\n",
    "    if globals()[network].number_of_edges(node1, node2) >= 1:\n",
    "        return \"Adjacent\"\n",
    "    else:\n",
    "        return \"Not Adjacent\""
   ]
  },
  {
   "cell_type": "code",
   "execution_count": 22,
   "id": "96f1d4fe",
   "metadata": {},
   "outputs": [
    {
     "name": "stdout",
     "output_type": "stream",
     "text": [
      "Your Network: G2\n",
      "Your Node 1: c\n",
      "Your Node 2: f\n"
     ]
    },
    {
     "data": {
      "text/plain": [
       "'Not Adjacent'"
      ]
     },
     "execution_count": 22,
     "metadata": {},
     "output_type": "execute_result"
    }
   ],
   "source": [
    "nx_adjacent()"
   ]
  },
  {
   "cell_type": "code",
   "execution_count": null,
   "id": "a1169a1f",
   "metadata": {},
   "outputs": [],
   "source": []
  }
 ],
 "metadata": {
  "kernelspec": {
   "display_name": "Python 3 (ipykernel)",
   "language": "python",
   "name": "python3"
  },
  "language_info": {
   "codemirror_mode": {
    "name": "ipython",
    "version": 3
   },
   "file_extension": ".py",
   "mimetype": "text/x-python",
   "name": "python",
   "nbconvert_exporter": "python",
   "pygments_lexer": "ipython3",
   "version": "3.8.11"
  }
 },
 "nbformat": 4,
 "nbformat_minor": 5
}
