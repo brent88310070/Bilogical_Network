{
 "cells": [
  {
   "cell_type": "code",
   "execution_count": 1,
   "id": "6cbd4bab",
   "metadata": {},
   "outputs": [],
   "source": [
    "import networkx as nx\n",
    "import random"
   ]
  },
  {
   "cell_type": "markdown",
   "id": "8bc226e5",
   "metadata": {},
   "source": [
    "### Network 1"
   ]
  },
  {
   "cell_type": "code",
   "execution_count": 2,
   "id": "0e4c8a53",
   "metadata": {},
   "outputs": [],
   "source": [
    "G = nx.read_edgelist(\"Network 1.txt\", create_using=nx.DiGraph)"
   ]
  },
  {
   "cell_type": "markdown",
   "id": "c41758d8",
   "metadata": {},
   "source": [
    "#### 1. calculate  the  in-degree  sequence  and  out-degree sequence  of  them"
   ]
  },
  {
   "cell_type": "code",
   "execution_count": 3,
   "id": "c18c4b95",
   "metadata": {},
   "outputs": [
    {
     "data": {
      "text/plain": [
       "[0, 0, 1, 1, 2, 2, 2, 2, 4]"
      ]
     },
     "execution_count": 3,
     "metadata": {},
     "output_type": "execute_result"
    }
   ],
   "source": [
    "#in-degree\n",
    "l = list(dict(G.in_degree()).values())\n",
    "sorted(l)"
   ]
  },
  {
   "cell_type": "code",
   "execution_count": 4,
   "id": "09662767",
   "metadata": {},
   "outputs": [
    {
     "data": {
      "text/plain": [
       "[0, 0, 1, 1, 1, 2, 2, 3, 4]"
      ]
     },
     "execution_count": 4,
     "metadata": {},
     "output_type": "execute_result"
    }
   ],
   "source": [
    "#out-degree\n",
    "l = list(dict(G.out_degree()).values())\n",
    "sorted(l)"
   ]
  },
  {
   "cell_type": "markdown",
   "id": "f4937807",
   "metadata": {},
   "source": [
    "#### 2. check  their  connectivity,  i.e.  strongly  or  weakly connected"
   ]
  },
  {
   "cell_type": "code",
   "execution_count": 5,
   "id": "a5eacb98",
   "metadata": {},
   "outputs": [
    {
     "data": {
      "text/plain": [
       "False"
      ]
     },
     "execution_count": 5,
     "metadata": {},
     "output_type": "execute_result"
    }
   ],
   "source": [
    "nx.is_strongly_connected(G)"
   ]
  },
  {
   "cell_type": "code",
   "execution_count": 6,
   "id": "c4fd3933",
   "metadata": {},
   "outputs": [
    {
     "data": {
      "text/plain": [
       "True"
      ]
     },
     "execution_count": 6,
     "metadata": {},
     "output_type": "execute_result"
    }
   ],
   "source": [
    "nx.is_weakly_connected(G)"
   ]
  },
  {
   "cell_type": "markdown",
   "id": "9da77374",
   "metadata": {},
   "source": [
    "#### 3. calculate  the  distance  between  node  a and  node  i"
   ]
  },
  {
   "cell_type": "code",
   "execution_count": 7,
   "id": "e143da43",
   "metadata": {},
   "outputs": [
    {
     "name": "stdout",
     "output_type": "stream",
     "text": [
      "No path\n"
     ]
    }
   ],
   "source": [
    "try:\n",
    "    n = nx.shortest_path_length(G, source=\"a\", target=\"i\")\n",
    "    print(n)\n",
    "except nx.NetworkXNoPath:\n",
    "    print('No path')"
   ]
  },
  {
   "cell_type": "markdown",
   "id": "03c12ef1",
   "metadata": {},
   "source": [
    "#### 4. list one subgraph containing at least 5 nodes for each network"
   ]
  },
  {
   "cell_type": "code",
   "execution_count": 8,
   "id": "ae143b50",
   "metadata": {},
   "outputs": [],
   "source": [
    "def nodes_connected(G, u, v):\n",
    "    n1 = u in G.neighbors(v)\n",
    "    n2 = v in G.neighbors(u)\n",
    "    if n1 or n2:\n",
    "        return True\n",
    "    else:\n",
    "        return False\n",
    "    \n",
    "def add_node(G, l, all_nodes):\n",
    "    random.shuffle(all_nodes)\n",
    "    for i in range(len(all_nodes)):\n",
    "        for j in range(len(l)):\n",
    "            if nodes_connected(G, l[j], all_nodes[i]):\n",
    "                return all_nodes[i]\n",
    "            \n",
    "def subgraph(G):\n",
    "    l = []\n",
    "    all_nodes = list(G.nodes)\n",
    "    l.append(random.sample(list(G.nodes), 1)[0])\n",
    "    for i in range(random.randint(4,len(list(G.nodes))-2)):\n",
    "        all_nodes = [element for element in all_nodes if element not in l]\n",
    "        new_node = add_node(G, l, all_nodes)\n",
    "        l.append(new_node)\n",
    "    return l"
   ]
  },
  {
   "cell_type": "code",
   "execution_count": 9,
   "id": "7531b424",
   "metadata": {},
   "outputs": [],
   "source": [
    "def draw(G, l):\n",
    "    remove_node = [e for e in G.nodes if e not in l]\n",
    "    for i in range(len(remove_node)):\n",
    "        G.remove_node(remove_node[i])\n",
    "    return nx.draw(G, with_labels = True)"
   ]
  },
  {
   "cell_type": "code",
   "execution_count": 10,
   "id": "f8a6dce6",
   "metadata": {},
   "outputs": [
    {
     "name": "stdout",
     "output_type": "stream",
     "text": [
      "Subgraph nodes: ['b', 'c', 'a', 'e', 'i', 'g', 'h']\n"
     ]
    }
   ],
   "source": [
    "l = subgraph(G)\n",
    "print(\"Subgraph nodes: %s\" %l)"
   ]
  },
  {
   "cell_type": "code",
   "execution_count": 11,
   "id": "57d1f2eb",
   "metadata": {},
   "outputs": [
    {
     "data": {
      "image/png": "[encoded data removed]",
      "text/plain": [
       "<Figure size 432x288 with 1 Axes>"
      ]
     },
     "metadata": {},
     "output_type": "display_data"
    }
   ],
   "source": [
    "draw(G, l)"
   ]
  },
  {
   "cell_type": "markdown",
   "id": "60d47b13",
   "metadata": {},
   "source": [
    "### Network 2"
   ]
  },
  {
   "cell_type": "code",
   "execution_count": 12,
   "id": "9a4eb47a",
   "metadata": {},
   "outputs": [],
   "source": [
    "G2 = nx.read_edgelist(\"Network 2.txt\", create_using=nx.DiGraph)"
   ]
  },
  {
   "cell_type": "markdown",
   "id": "5b6e2221",
   "metadata": {},
   "source": [
    "#### 1. calculate the in-degree sequence and out-degree sequence of them"
   ]
  },
  {
   "cell_type": "code",
   "execution_count": 13,
   "id": "1acf9ae9",
   "metadata": {},
   "outputs": [
    {
     "data": {
      "text/plain": [
       "[0, 1, 1, 1, 2, 2, 2, 3, 3, 5]"
      ]
     },
     "execution_count": 13,
     "metadata": {},
     "output_type": "execute_result"
    }
   ],
   "source": [
    "#in-degree\n",
    "l = list(dict(G2.in_degree()).values())\n",
    "sorted(l)"
   ]
  },
  {
   "cell_type": "code",
   "execution_count": 14,
   "id": "b3ba21d7",
   "metadata": {},
   "outputs": [
    {
     "data": {
      "text/plain": [
       "[0, 1, 1, 1, 1, 2, 2, 3, 4, 5]"
      ]
     },
     "execution_count": 14,
     "metadata": {},
     "output_type": "execute_result"
    }
   ],
   "source": [
    "#out-degree\n",
    "l = list(dict(G2.out_degree()).values())\n",
    "sorted(l)"
   ]
  },
  {
   "cell_type": "markdown",
   "id": "68f238a8",
   "metadata": {},
   "source": [
    "#### 2. check their connectivity, i.e. strongly or weakly connected"
   ]
  },
  {
   "cell_type": "code",
   "execution_count": 15,
   "id": "fa1bc816",
   "metadata": {},
   "outputs": [
    {
     "data": {
      "text/plain": [
       "False"
      ]
     },
     "execution_count": 15,
     "metadata": {},
     "output_type": "execute_result"
    }
   ],
   "source": [
    "nx.is_strongly_connected(G2)"
   ]
  },
  {
   "cell_type": "code",
   "execution_count": 16,
   "id": "99cc1a55",
   "metadata": {},
   "outputs": [
    {
     "data": {
      "text/plain": [
       "True"
      ]
     },
     "execution_count": 16,
     "metadata": {},
     "output_type": "execute_result"
    }
   ],
   "source": [
    "nx.is_weakly_connected(G2)"
   ]
  },
  {
   "cell_type": "markdown",
   "id": "be63d41f",
   "metadata": {},
   "source": [
    "#### 3. calculate the distance between node a and node i"
   ]
  },
  {
   "cell_type": "code",
   "execution_count": 17,
   "id": "73ccabbd",
   "metadata": {},
   "outputs": [
    {
     "name": "stdout",
     "output_type": "stream",
     "text": [
      "3\n"
     ]
    }
   ],
   "source": [
    "try:\n",
    "    n = nx.shortest_path_length(G2, source=\"a\", target=\"i\")\n",
    "    print(n)\n",
    "except nx.NetworkXNoPath:\n",
    "    print('No path')"
   ]
  },
  {
   "cell_type": "markdown",
   "id": "c2074a17",
   "metadata": {},
   "source": [
    "#### 4. list  one  subgraph  containing  at  least  5  nodes  for  each network"
   ]
  },
  {
   "cell_type": "code",
   "execution_count": 18,
   "id": "94e658fc",
   "metadata": {},
   "outputs": [
    {
     "name": "stdout",
     "output_type": "stream",
     "text": [
      "Subgraph nodes: ['d', 'e', 'f', 'h', 'g', 'c']\n"
     ]
    }
   ],
   "source": [
    "l2 = subgraph(G2)\n",
    "print(\"Subgraph nodes: %s\" %l2)"
   ]
  },
  {
   "cell_type": "code",
   "execution_count": 19,
   "id": "b27c99c1",
   "metadata": {},
   "outputs": [
    {
     "data": {
      "image/png": "[encoded data removed]",
      "text/plain": [
       "<Figure size 432x288 with 1 Axes>"
      ]
     },
     "metadata": {},
     "output_type": "display_data"
    }
   ],
   "source": [
    "draw(G2, l2)"
   ]
  },
  {
   "cell_type": "code",
   "execution_count": null,
   "id": "b839f376",
   "metadata": {},
   "outputs": [],
   "source": []
  }
 ],
 "metadata": {
  "kernelspec": {
   "display_name": "Python 3",
   "language": "python",
   "name": "python3"
  },
  "language_info": {
   "codemirror_mode": {
    "name": "ipython",
    "version": 3
   },
   "file_extension": ".py",
   "mimetype": "text/x-python",
   "name": "python",
   "nbconvert_exporter": "python",
   "pygments_lexer": "ipython3",
   "version": "3.8.3"
  }
 },
 "nbformat": 4,
 "nbformat_minor": 5
}
