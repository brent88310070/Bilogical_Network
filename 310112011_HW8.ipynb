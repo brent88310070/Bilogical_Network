{
 "cells": [
  {
   "cell_type": "code",
   "execution_count": 1,
   "id": "bdfe7312-f491-4303-9a0c-d521efe7ba98",
   "metadata": {},
   "outputs": [],
   "source": [
    "import networkx as nx"
   ]
  },
  {
   "cell_type": "markdown",
   "id": "3376bda3-f18a-47da-abb0-bf79e8c677ce",
   "metadata": {},
   "source": [
    "### Using the  digraph  network 4\n",
    "#### Find all  sources  and  sinks"
   ]
  },
  {
   "cell_type": "code",
   "execution_count": 9,
   "id": "c6cb939f-f149-4bd9-a5cf-34ebff8d6c14",
   "metadata": {},
   "outputs": [],
   "source": [
    "G = nx.read_edgelist(\"Network 4.txt\", create_using= nx.DiGraph())"
   ]
  },
  {
   "cell_type": "code",
   "execution_count": 3,
   "id": "c713b02b-aac9-4636-b32e-82f8e5f0b34e",
   "metadata": {},
   "outputs": [],
   "source": [
    "sources = []\n",
    "sinks = []\n",
    "for i in list(G.nodes()):\n",
    "    if G.in_degree(i) == 0 and G.out_degree(i) > 0:\n",
    "        sources.append(i)\n",
    "    if G.in_degree(i) > 0 and G.out_degree(i) == 0:\n",
    "        sinks.append(i)"
   ]
  },
  {
   "cell_type": "code",
   "execution_count": 4,
   "id": "b01693fd-44b1-4817-a053-1d2650ca9d8c",
   "metadata": {},
   "outputs": [
    {
     "data": {
      "text/plain": [
       "['l', 'e']"
      ]
     },
     "execution_count": 4,
     "metadata": {},
     "output_type": "execute_result"
    }
   ],
   "source": [
    "sources"
   ]
  },
  {
   "cell_type": "code",
   "execution_count": 5,
   "id": "6d386639-1a77-48cc-b5ba-eeab1c215c92",
   "metadata": {},
   "outputs": [
    {
     "data": {
      "text/plain": [
       "['n', 'h', 'k']"
      ]
     },
     "execution_count": 5,
     "metadata": {},
     "output_type": "execute_result"
    }
   ],
   "source": [
    "sinks "
   ]
  },
  {
   "cell_type": "markdown",
   "id": "65c8f57b-2e57-437d-978c-70390e10816b",
   "metadata": {},
   "source": [
    "#### Run topological  sort  for  it"
   ]
  },
  {
   "cell_type": "code",
   "execution_count": 12,
   "id": "9cdab0e6-e2f8-493a-9c74-45768c429ab2",
   "metadata": {},
   "outputs": [
    {
     "data": {
      "text/plain": [
       "['l', 'e', 'm', 'g', 'n', 'd', 'f', 'c', 'j', 'k', 'h']"
      ]
     },
     "execution_count": 12,
     "metadata": {},
     "output_type": "execute_result"
    }
   ],
   "source": [
    "topological = nx.topological_sort(G)\n",
    "list(topological)"
   ]
  },
  {
   "cell_type": "markdown",
   "id": "f44b77a8-0f1a-424f-b97e-f02a92d81a33",
   "metadata": {},
   "source": [
    "#### Is  it  a rooted  tree?"
   ]
  },
  {
   "cell_type": "code",
   "execution_count": 8,
   "id": "585b6ea7-1453-41be-b0f1-7c9765e9fabc",
   "metadata": {},
   "outputs": [
    {
     "name": "stdout",
     "output_type": "stream",
     "text": [
      "Not a rooted tree\n"
     ]
    }
   ],
   "source": [
    "G = nx.read_edgelist(\"Network 4.txt\", create_using= nx.DiGraph())\n",
    "\n",
    "sources = []\n",
    "for i in list(G.nodes()):\n",
    "    if G.in_degree(i) == 0 and G.out_degree(i) > 0:\n",
    "        sources.append(i)\n",
    "if len(sources) == 1 and nx.is_tree(G):\n",
    "    print(\"A rooted tree\")\n",
    "else:\n",
    "    print(\"Not a rooted tree\")"
   ]
  },
  {
   "cell_type": "code",
   "execution_count": null,
   "id": "3d120e62-5981-4280-a9e7-e35dc6ce8138",
   "metadata": {},
   "outputs": [],
   "source": []
  }
 ],
 "metadata": {
  "kernelspec": {
   "display_name": "Python 3 (ipykernel)",
   "language": "python",
   "name": "python3"
  },
  "language_info": {
   "codemirror_mode": {
    "name": "ipython",
    "version": 3
   },
   "file_extension": ".py",
   "mimetype": "text/x-python",
   "name": "python",
   "nbconvert_exporter": "python",
   "pygments_lexer": "ipython3",
   "version": "3.8.11"
  }
 },
 "nbformat": 4,
 "nbformat_minor": 5
}
